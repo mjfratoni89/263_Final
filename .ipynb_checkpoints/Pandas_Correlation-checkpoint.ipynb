{
 "metadata": {
  "name": "",
  "signature": "sha256:70533ccc0729295d649a6e4e241f26e590fc24880ef5b52b8dc4cb5ecd4c0ebf"
 },
 "nbformat": 3,
 "nbformat_minor": 0,
 "worksheets": [
  {
   "cells": [
    {
     "cell_type": "code",
     "collapsed": false,
     "input": [
      "import pandas as pd\n",
      "\n",
      "df = pd.DataFrame.from_csv('leagues_NBA_2014_team.csv')\n",
      "\n",
      "corr = df.corr()\n",
      "rk = corr[:1]\n",
      "topcorr = rk.head(10)\n",
      "\n",
      "print topcorr"
     ],
     "language": "python",
     "metadata": {},
     "outputs": [
      {
       "output_type": "stream",
       "stream": "stdout",
       "text": [
        "    Rk   G        MP        FG       FGA       FG%        3P       3PA  \\\n",
        "Rk   1 NaN -0.044208  0.407832 -0.278271  0.673229  0.371163  0.245403   \n",
        "\n",
        "         3P%        2P    ...          FT%       ORB     DRB       TRB  \\\n",
        "Rk  0.533396  0.051162    ...     0.350734 -0.289263  0.4907  0.168802   \n",
        "\n",
        "         AST       STL       BLK       TOV       PF       PTS  \n",
        "Rk  0.322093  0.041318  0.292369 -0.239546 -0.21941  0.519958  \n",
        "\n",
        "[1 rows x 24 columns]\n"
       ]
      }
     ],
     "prompt_number": 5
    },
    {
     "cell_type": "code",
     "collapsed": false,
     "input": [
      "topcorr"
     ],
     "language": "python",
     "metadata": {},
     "outputs": [
      {
       "html": [
        "<div style=\"max-height:1000px;max-width:1500px;overflow:auto;\">\n",
        "<table border=\"1\" class=\"dataframe\">\n",
        "  <thead>\n",
        "    <tr style=\"text-align: right;\">\n",
        "      <th></th>\n",
        "      <th>Rk</th>\n",
        "      <th>G</th>\n",
        "      <th>MP</th>\n",
        "      <th>FG</th>\n",
        "      <th>FGA</th>\n",
        "      <th>FG%</th>\n",
        "      <th>3P</th>\n",
        "      <th>3PA</th>\n",
        "      <th>3P%</th>\n",
        "      <th>2P</th>\n",
        "      <th>...</th>\n",
        "      <th>FT%</th>\n",
        "      <th>ORB</th>\n",
        "      <th>DRB</th>\n",
        "      <th>TRB</th>\n",
        "      <th>AST</th>\n",
        "      <th>STL</th>\n",
        "      <th>BLK</th>\n",
        "      <th>TOV</th>\n",
        "      <th>PF</th>\n",
        "      <th>PTS</th>\n",
        "    </tr>\n",
        "  </thead>\n",
        "  <tbody>\n",
        "    <tr>\n",
        "      <th>Rk</th>\n",
        "      <td> 1</td>\n",
        "      <td>NaN</td>\n",
        "      <td>-0.044208</td>\n",
        "      <td> 0.407832</td>\n",
        "      <td>-0.278271</td>\n",
        "      <td> 0.673229</td>\n",
        "      <td> 0.371163</td>\n",
        "      <td> 0.245403</td>\n",
        "      <td> 0.533396</td>\n",
        "      <td> 0.051162</td>\n",
        "      <td>...</td>\n",
        "      <td> 0.350734</td>\n",
        "      <td>-0.289263</td>\n",
        "      <td> 0.4907</td>\n",
        "      <td> 0.168802</td>\n",
        "      <td> 0.322093</td>\n",
        "      <td> 0.041318</td>\n",
        "      <td> 0.292369</td>\n",
        "      <td>-0.239546</td>\n",
        "      <td>-0.21941</td>\n",
        "      <td> 0.519958</td>\n",
        "    </tr>\n",
        "  </tbody>\n",
        "</table>\n",
        "<p>1 rows \u00d7 24 columns</p>\n",
        "</div>"
       ],
       "metadata": {},
       "output_type": "pyout",
       "prompt_number": 6,
       "text": [
        "    Rk   G        MP        FG       FGA       FG%        3P       3PA  \\\n",
        "Rk   1 NaN -0.044208  0.407832 -0.278271  0.673229  0.371163  0.245403   \n",
        "\n",
        "         3P%        2P    ...          FT%       ORB     DRB       TRB  \\\n",
        "Rk  0.533396  0.051162    ...     0.350734 -0.289263  0.4907  0.168802   \n",
        "\n",
        "         AST       STL       BLK       TOV       PF       PTS  \n",
        "Rk  0.322093  0.041318  0.292369 -0.239546 -0.21941  0.519958  \n",
        "\n",
        "[1 rows x 24 columns]"
       ]
      }
     ],
     "prompt_number": 6
    },
    {
     "cell_type": "code",
     "collapsed": false,
     "input": [],
     "language": "python",
     "metadata": {},
     "outputs": []
    }
   ],
   "metadata": {}
  }
 ]
}