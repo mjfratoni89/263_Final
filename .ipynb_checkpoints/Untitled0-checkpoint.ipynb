{
 "metadata": {
  "name": "",
  "signature": "sha256:512a01931356f7721de41cfe936dbd2dc7eb1e1cef04a5b7c55626d391e20e18"
 },
 "nbformat": 3,
 "nbformat_minor": 0,
 "worksheets": []
}