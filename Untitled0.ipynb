{
 "metadata": {
  "name": "",
  "signature": "sha256:1c7ea9096b387bb5764ad6128390faedbcad1754c3f5c4a13b5e74080b321b71"
 },
 "nbformat": 3,
 "nbformat_minor": 0,
 "worksheets": [
  {
   "cells": [
    {
     "cell_type": "code",
     "collapsed": false,
     "input": [
      "import numpy as np\n",
      "import pandas as pd\n",
      "\n",
      "data = np.genfromtxt('leagues_NBA_2014_team.csv',delimiter=',',skip_header=1)\n",
      "df = pd.DataFrame.from_csv('leagues_NBA_2014_team.csv')"
     ],
     "language": "python",
     "metadata": {},
     "outputs": [],
     "prompt_number": 5
    },
    {
     "cell_type": "code",
     "collapsed": false,
     "input": [
      "x = df.corr()"
     ],
     "language": "python",
     "metadata": {},
     "outputs": [],
     "prompt_number": 9
    },
    {
     "cell_type": "code",
     "collapsed": false,
     "input": [
      "x['Rk'].max"
     ],
     "language": "python",
     "metadata": {},
     "outputs": [
      {
       "metadata": {},
       "output_type": "pyout",
       "prompt_number": 13,
       "text": [
        "<bound method Series.max of Rk       1.000000\n",
        "G             NaN\n",
        "MP      -0.044208\n",
        "FG       0.407832\n",
        "FGA     -0.278271\n",
        "FG%      0.673229\n",
        "3P       0.371163\n",
        "3PA      0.245403\n",
        "3P%      0.533396\n",
        "2P       0.051162\n",
        "2PA     -0.392827\n",
        "2P%      0.601318\n",
        "FT       0.288498\n",
        "FTA      0.157080\n",
        "FT%      0.350734\n",
        "ORB     -0.289263\n",
        "DRB      0.490700\n",
        "TRB      0.168802\n",
        "AST      0.322093\n",
        "STL      0.041318\n",
        "BLK      0.292369\n",
        "TOV     -0.239546\n",
        "PF      -0.219410\n",
        "PTS      0.519958\n",
        "PTS/G    0.519770\n",
        "Name: Rk, dtype: float64>"
       ]
      }
     ],
     "prompt_number": 13
    },
    {
     "cell_type": "code",
     "collapsed": false,
     "input": [],
     "language": "python",
     "metadata": {},
     "outputs": []
    }
   ],
   "metadata": {}
  }
 ]
}